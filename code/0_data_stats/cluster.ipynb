{
 "cells": [
  {
   "cell_type": "code",
   "execution_count": 7,
   "metadata": {},
   "outputs": [
    {
     "name": "stderr",
     "output_type": "stream",
     "text": [
      "/local/data1/honzh073/anaconda3/envs/myenv/lib/python3.9/site-packages/sklearn/cluster/_kmeans.py:1412: FutureWarning: The default value of `n_init` will change from 10 to 'auto' in 1.4. Set the value of `n_init` explicitly to suppress the warning\n",
      "  super()._check_params_vs_input(X, default_n_init=10)\n"
     ]
    },
    {
     "name": "stdout",
     "output_type": "stream",
     "text": [
      "图像已成功聚类并复制到相应的文件夹中。\n"
     ]
    }
   ],
   "source": [
    "import os\n",
    "import shutil\n",
    "import torch\n",
    "from torchvision import models, transforms\n",
    "from sklearn.cluster import KMeans\n",
    "from PIL import Image\n",
    "\n",
    "# 加载预训练的ResNet模型\n",
    "model = models.resnet18(pretrained=True)\n",
    "model = torch.nn.Sequential(*(list(model.children())[:-1]))\n",
    "model.eval()\n",
    "\n",
    "# 图像预处理\n",
    "preprocess = transforms.Compose([\n",
    "    # transforms.Resize(256),\n",
    "    # transforms.CenterCrop(224),\n",
    "    transforms.ToTensor(),\n",
    "    transforms.Normalize(mean=[0.485, 0.456, 0.406], std=[0.229, 0.224, 0.225]),\n",
    "])\n",
    "\n",
    "# 加载图像文件夹中的图像\n",
    "image_folder_path = \"/local/data1/honzh073/data/8bit_downsample_256\"\n",
    "image_file_names = os.listdir(image_folder_path)\n",
    "images = []\n",
    "for image_file in image_file_names:\n",
    "    image_path = os.path.join(image_folder_path, image_file)\n",
    "    image = Image.open(image_path).convert(\"RGB\")\n",
    "    image_tensor = preprocess(image)\n",
    "    images.append(image_tensor)\n",
    "\n",
    "# 创建一个包含所有图像特征的张量\n",
    "batch = torch.stack(images)\n",
    "\n",
    "# 使用ResNet模型提取特征\n",
    "with torch.no_grad():\n",
    "    features = model(batch)\n",
    "\n",
    "# 将特征转换为NumPy数组\n",
    "features_array = features.squeeze().numpy()\n",
    "\n",
    "# 使用K均值聚类将图像分成k个类别（这里假设你想要分成k个类别）\n",
    "k = 2  # 你可以根据需要调整聚类的数量\n",
    "kmeans = KMeans(n_clusters=k, random_state=0).fit(features_array)\n",
    "\n",
    "# 创建目标文件夹（例如，cluster_0, cluster_1, ...）\n",
    "output_folder = \"/local/data1/honzh073/data/cluster\"\n",
    "os.makedirs(output_folder, exist_ok=True)\n",
    "\n",
    "# 将图像复制到相应的文件夹\n",
    "for i, cluster_label in enumerate(kmeans.labels_):\n",
    "    cluster_folder = os.path.join(output_folder, f\"cluster_{cluster_label}\")\n",
    "    os.makedirs(cluster_folder, exist_ok=True)\n",
    "    image_file_name = image_file_names[i]\n",
    "    shutil.copy(os.path.join(image_folder_path, image_file_name), cluster_folder)\n",
    "\n",
    "print(\"图像已成功聚类并复制到相应的文件夹中。\")\n"
   ]
  }
 ],
 "metadata": {
  "kernelspec": {
   "display_name": "myenv",
   "language": "python",
   "name": "python3"
  },
  "language_info": {
   "codemirror_mode": {
    "name": "ipython",
    "version": 3
   },
   "file_extension": ".py",
   "mimetype": "text/x-python",
   "name": "python",
   "nbconvert_exporter": "python",
   "pygments_lexer": "ipython3",
   "version": "3.9.17"
  },
  "orig_nbformat": 4
 },
 "nbformat": 4,
 "nbformat_minor": 2
}
