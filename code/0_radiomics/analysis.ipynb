{
 "cells": [
  {
   "cell_type": "code",
   "execution_count": 1,
   "metadata": {},
   "outputs": [
    {
     "ename": "ModuleNotFoundError",
     "evalue": "No module named 'radiomics'",
     "output_type": "error",
     "traceback": [
      "\u001b[0;31m---------------------------------------------------------------------------\u001b[0m",
      "\u001b[0;31mModuleNotFoundError\u001b[0m                       Traceback (most recent call last)",
      "\u001b[1;32m/local/data1/honzh073/local_repo/FL/code/0_radiomics/analysis.ipynb Cell 1\u001b[0m line \u001b[0;36m4\n\u001b[1;32m      <a href='vscode-notebook-cell://ssh-remote%2Bsuzuki_ssh/local/data1/honzh073/local_repo/FL/code/0_radiomics/analysis.ipynb#W0sdnNjb2RlLXJlbW90ZQ%3D%3D?line=1'>2</a>\u001b[0m \u001b[39mimport\u001b[39;00m \u001b[39mnumpy\u001b[39;00m \u001b[39mas\u001b[39;00m \u001b[39mnp\u001b[39;00m\n\u001b[1;32m      <a href='vscode-notebook-cell://ssh-remote%2Bsuzuki_ssh/local/data1/honzh073/local_repo/FL/code/0_radiomics/analysis.ipynb#W0sdnNjb2RlLXJlbW90ZQ%3D%3D?line=2'>3</a>\u001b[0m \u001b[39mimport\u001b[39;00m \u001b[39mSimpleITK\u001b[39;00m \u001b[39mas\u001b[39;00m \u001b[39msitk\u001b[39;00m\n\u001b[0;32m----> <a href='vscode-notebook-cell://ssh-remote%2Bsuzuki_ssh/local/data1/honzh073/local_repo/FL/code/0_radiomics/analysis.ipynb#W0sdnNjb2RlLXJlbW90ZQ%3D%3D?line=3'>4</a>\u001b[0m \u001b[39mfrom\u001b[39;00m \u001b[39mradiomics\u001b[39;00m \u001b[39mimport\u001b[39;00m featureextractor\n\u001b[1;32m      <a href='vscode-notebook-cell://ssh-remote%2Bsuzuki_ssh/local/data1/honzh073/local_repo/FL/code/0_radiomics/analysis.ipynb#W0sdnNjb2RlLXJlbW90ZQ%3D%3D?line=5'>6</a>\u001b[0m \u001b[39m# 定义图像路径和标签（AFF或NFF）\u001b[39;00m\n\u001b[1;32m      <a href='vscode-notebook-cell://ssh-remote%2Bsuzuki_ssh/local/data1/honzh073/local_repo/FL/code/0_radiomics/analysis.ipynb#W0sdnNjb2RlLXJlbW90ZQ%3D%3D?line=6'>7</a>\u001b[0m image_folder \u001b[39m=\u001b[39m \u001b[39m'\u001b[39m\u001b[39m/local/data1/honzh073/data/8bit_raw\u001b[39m\u001b[39m'\u001b[39m\n",
      "\u001b[0;31mModuleNotFoundError\u001b[0m: No module named 'radiomics'"
     ]
    }
   ],
   "source": [
    "import os\n",
    "import numpy as np\n",
    "import SimpleITK as sitk\n",
    "from radiomics import featureextractor\n",
    "\n",
    "# 定义图像路径和标签（AFF或NFF）\n",
    "image_folder = '/local/data1/honzh073/data/8bit_raw'\n",
    "labels = {'AFF': 1, 'NFF': 0}  # 对应每个类别的标签\n",
    "\n",
    "# 提取Radiomic特征的函数\n",
    "def extract_radiomic_features(image_path):\n",
    "    # 读取图像\n",
    "    image = sitk.ReadImage(image_path)\n",
    "    \n",
    "    # 创建Radiomic特征提取器\n",
    "    extractor = featureextractor.RadiomicsFeatureExtractor()\n",
    "    \n",
    "    # 提取特征\n",
    "    features = extractor.execute(image)\n",
    "    \n",
    "    return features\n",
    "\n",
    "# 存储特征和标签的列表\n",
    "features_list = []\n",
    "labels_list = []\n",
    "\n",
    "# 遍历图像文件夹并提取Radiomic特征\n",
    "for image_file in os.listdir(image_folder):\n",
    "    if image_file.endswith('.dcm'):\n",
    "        image_path = os.path.join(image_folder, image_file)\n",
    "        \n",
    "        # 提取特征\n",
    "        features = extract_radiomic_features(image_path)\n",
    "        \n",
    "        # 添加特征和标签到列表\n",
    "        features_list.append(features)\n",
    "        # 获取类别（AFF或NFF）\n",
    "        category = image_file.split('_')[0]\n",
    "        labels_list.append(labels[category])\n",
    "\n",
    "# 将特征和标签转换为NumPy数组\n",
    "features_array = np.array(features_list)\n",
    "labels_array = np.array(labels_list)\n",
    "\n",
    "# 现在你可以使用features_array和labels_array进行机器学习模型的训练和评估\n",
    "# 你可以使用scikit-learn或其他机器学习库进行进一步的处理和分析\n"
   ]
  }
 ],
 "metadata": {
  "kernelspec": {
   "display_name": "myenv",
   "language": "python",
   "name": "python3"
  },
  "language_info": {
   "codemirror_mode": {
    "name": "ipython",
    "version": 3
   },
   "file_extension": ".py",
   "mimetype": "text/x-python",
   "name": "python",
   "nbconvert_exporter": "python",
   "pygments_lexer": "ipython3",
   "version": "3.9.17"
  },
  "orig_nbformat": 4
 },
 "nbformat": 4,
 "nbformat_minor": 2
}
