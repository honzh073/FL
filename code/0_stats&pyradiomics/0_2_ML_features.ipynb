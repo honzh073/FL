{
 "cells": [
  {
   "cell_type": "code",
   "execution_count": null,
   "metadata": {},
   "outputs": [],
   "source": [
    "# remove columns\n"
   ]
  },
  {
   "cell_type": "code",
   "execution_count": 1,
   "metadata": {},
   "outputs": [
    {
     "name": "stdout",
     "output_type": "stream",
     "text": [
      "Accuracy: 0.6538461538461539\n"
     ]
    }
   ],
   "source": [
    "import pandas as pd\n",
    "from sklearn.model_selection import train_test_split\n",
    "from sklearn.linear_model import LogisticRegression\n",
    "from sklearn.metrics import accuracy_score\n",
    "\n",
    "# 读取带有\"type\"列的CSV文件\n",
    "csv_file_path = \"/local/data1/honzh073/local_repository/FL/code/0_stats&pyradiomics/clean_18_types.csv\"\n",
    "data = pd.read_csv(csv_file_path)\n",
    "\n",
    "# 提取特征（前面的列）和标签（最后一列 \"type\"）\n",
    "features = data.iloc[:, :-2]  # 所有行，除了最后一列\n",
    "labels = data[\"Type\"]  # 最后一列作为标签\n",
    "\n",
    "# 划分数据集为训练集和测试集\n",
    "X_train, X_test, y_train, y_test = train_test_split(features, labels, test_size=0.2, random_state=42)\n",
    "\n",
    "# 初始化逻辑回归模型\n",
    "classifier = LogisticRegression(random_state=42)\n",
    "\n",
    "# 训练模型\n",
    "classifier.fit(X_train, y_train)\n",
    "\n",
    "# 预测\n",
    "predictions = classifier.predict(X_test)\n",
    "\n",
    "# 计算准确率\n",
    "accuracy = accuracy_score(y_test, predictions)\n",
    "print(\"Accuracy:\", accuracy)\n"
   ]
  },
  {
   "cell_type": "markdown",
   "metadata": {},
   "source": [
    "# after clean LogisticRegression\n"
   ]
  },
  {
   "cell_type": "code",
   "execution_count": 23,
   "metadata": {},
   "outputs": [
    {
     "name": "stdout",
     "output_type": "stream",
     "text": [
      "Sorted Model Coefficients:\n",
      "original_glszm_LargeAreaEmphasis: -4.398252760138657e-15\n",
      "original_glszm_LargeAreaHighGrayLevelEmphasis: -4.398252760138657e-15\n",
      "original_glszm_LargeAreaLowGrayLevelEmphasis: -4.398252760138657e-15\n",
      "diagnostics_Mask-original_VoxelNum: -6.3172726949286e-22\n",
      "original_gldm_GrayLevelNonUniformity: -6.3172726949286e-22\n",
      "original_gldm_DependenceNonUniformity: -6.296871924248544e-22\n",
      "original_glrlm_LongRunEmphasis: -4.333775710711173e-22\n",
      "original_glrlm_LongRunHighGrayLevelEmphasis: -4.333775710711173e-22\n",
      "original_glrlm_LongRunLowGrayLevelEmphasis: -4.333775710711173e-22\n",
      "original_firstorder_Energy: -7.040291872628963e-23\n",
      "original_firstorder_TotalEnergy: -7.040291872628963e-23\n",
      "original_glrlm_RunVariance: -2.436712255008996e-23\n",
      "original_glrlm_GrayLevelNonUniformity: -3.8327502473652184e-25\n",
      "original_glrlm_RunLengthNonUniformity: -1.360239225064952e-25\n",
      "original_gldm_LargeDependenceEmphasis: -8.463111808691092e-27\n",
      "original_gldm_LargeDependenceHighGrayLevelEmphasis: -8.463111808691092e-27\n",
      "original_gldm_LargeDependenceLowGrayLevelEmphasis: -8.463111808691092e-27\n",
      "original_glrlm_RunEntropy: -5.198658537306481e-28\n",
      "original_firstorder_Kurtosis: -2.86423998015427e-28\n",
      "original_gldm_DependenceNonUniformityNormalized: -1.0421050558191457e-28\n",
      "original_glrlm_RunLengthNonUniformityNormalized: -5.443560035758554e-29\n",
      "original_firstorder_90Percentile: -4.7999896579532567e-29\n",
      "original_firstorder_RootMeanSquared: -3.2144568119460235e-29\n",
      "diagnostics_Image-original_Mean: -2.821517907606072e-29\n",
      "original_firstorder_Mean: -2.821517907606072e-29\n",
      "original_firstorder_Median: -2.7758956837597544e-29\n",
      "original_firstorder_InterquartileRange: -2.544601223792956e-29\n",
      "original_firstorder_Skewness: -2.3124369619835794e-29\n",
      "original_firstorder_MeanAbsoluteDeviation: -1.3108781354031593e-29\n",
      "original_firstorder_RobustMeanAbsoluteDeviation: -1.1050044809204978e-29\n",
      "original_firstorder_10Percentile: -4.292972106334373e-30\n",
      "original_firstorder_Variance: -2.641719084311272e-30\n",
      "original_gldm_DependenceEntropy: -1.986081482550752e-30\n",
      "original_gldm_DependenceVariance: -1.699768588531696e-30\n",
      "original_gldm_SmallDependenceEmphasis: -1.2941298770527966e-30\n",
      "original_gldm_SmallDependenceHighGrayLevelEmphasis: -1.2941298770527966e-30\n",
      "original_gldm_SmallDependenceLowGrayLevelEmphasis: -1.2941298770527966e-30\n",
      "original_glrlm_RunPercentage: -7.092673308126712e-32\n",
      "original_glrlm_ShortRunEmphasis: -3.675746217168325e-32\n",
      "original_glrlm_ShortRunHighGrayLevelEmphasis: -3.675746217168325e-32\n",
      "original_glrlm_ShortRunLowGrayLevelEmphasis: -3.675746217168325e-32\n",
      "Accuracy: 0.7432432432432432\n"
     ]
    }
   ],
   "source": [
    "import pandas as pd\n",
    "from sklearn.model_selection import train_test_split\n",
    "from sklearn.linear_model import LogisticRegression\n",
    "from sklearn.metrics import accuracy_score\n",
    "\n",
    "# 读取带有\"type\"列的CSV文件\n",
    "csv_file_path = \"/local/data1/honzh073/local_repository/FL/code/0_stats&pyradiomics/clean_43_types.csv\"\n",
    "data = pd.read_csv(csv_file_path)\n",
    "\n",
    "# 提取特征（前面的列）和标签（最后一列 \"type\"）\n",
    "features = data.iloc[:, :-2]  # 所有行，除了最后一列\n",
    "labels = data[\"Type\"]  # 最后一列作为标签\n",
    "\n",
    "# 划分数据集为训练集和测试集\n",
    "X_train, X_test, y_train, y_test = train_test_split(features, labels, test_size=0.3, random_state=42)\n",
    "\n",
    "# 初始化逻辑回归模型\n",
    "classifier = LogisticRegression(random_state=42)\n",
    "\n",
    "# 训练模型\n",
    "classifier.fit(X_train, y_train)\n",
    "\n",
    "# 获取特征名称和对应的权重\n",
    "feature_weights = list(zip(features.columns, classifier.coef_[0]))\n",
    "\n",
    "# 按权重绝对值从大到小进行排序\n",
    "sorted_feature_weights = sorted(feature_weights, key=lambda x: abs(x[1]), reverse=True)\n",
    "\n",
    "# 打印排序后的特征权重\n",
    "print(\"Sorted Model Coefficients:\")\n",
    "for feature, coef in sorted_feature_weights:\n",
    "    print(f\"{feature}: {coef}\")\n",
    "\n",
    "# 预测\n",
    "predictions = classifier.predict(X_test)\n",
    "\n",
    "# 计算准确率\n",
    "accuracy = accuracy_score(y_test, predictions)\n",
    "print(\"Accuracy:\", accuracy)\n"
   ]
  },
  {
   "cell_type": "markdown",
   "metadata": {},
   "source": [
    "# SVM"
   ]
  },
  {
   "cell_type": "code",
   "execution_count": 21,
   "metadata": {},
   "outputs": [
    {
     "name": "stdout",
     "output_type": "stream",
     "text": [
      "SVM Accuracy: 0.7432432432432432\n"
     ]
    }
   ],
   "source": [
    "import pandas as pd\n",
    "from sklearn.model_selection import train_test_split\n",
    "from sklearn.svm import SVC\n",
    "from sklearn.metrics import accuracy_score\n",
    "\n",
    "# 读取带有\"type\"列的CSV文件\n",
    "csv_file_path = \"/local/data1/honzh073/local_repository/FL/code/0_stats&pyradiomics/clean_43_types.csv\"\n",
    "data = pd.read_csv(csv_file_path)\n",
    "\n",
    "# 提取特征（前面的列）和标签（最后一列 \"type\"）\n",
    "features = data.iloc[:, :-2]  # 所有行，除了最后一列\n",
    "labels = data[\"Type\"]  # 最后一列作为标签\n",
    "\n",
    "# 划分数据集为训练集和测试集\n",
    "X_train, X_test, y_train, y_test = train_test_split(features, labels, test_size=0.3, random_state=42)\n",
    "\n",
    "# 初始化SVM模型\n",
    "svm_classifier = SVC(random_state=42)\n",
    "\n",
    "# 训练模型\n",
    "svm_classifier.fit(X_train, y_train)\n",
    "\n",
    "# 预测\n",
    "svm_predictions = svm_classifier.predict(X_test)\n",
    "\n",
    "# 计算准确率\n",
    "svm_accuracy = accuracy_score(y_test, svm_predictions)\n",
    "print(\"SVM Accuracy:\", svm_accuracy)\n"
   ]
  }
 ],
 "metadata": {
  "kernelspec": {
   "display_name": "Python 3",
   "language": "python",
   "name": "python3"
  },
  "language_info": {
   "codemirror_mode": {
    "name": "ipython",
    "version": 3
   },
   "file_extension": ".py",
   "mimetype": "text/x-python",
   "name": "python",
   "nbconvert_exporter": "python",
   "pygments_lexer": "ipython3",
   "version": "3.9.17"
  }
 },
 "nbformat": 4,
 "nbformat_minor": 2
}
