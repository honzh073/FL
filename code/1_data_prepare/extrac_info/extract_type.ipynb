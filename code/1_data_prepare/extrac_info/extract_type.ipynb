{
 "cells": [
  {
   "cell_type": "markdown",
   "metadata": {},
   "source": [
    "# Create AFF and NFF folder\n"
   ]
  },
  {
   "cell_type": "code",
   "execution_count": 4,
   "metadata": {},
   "outputs": [],
   "source": [
    "import os\n",
    "import shutil\n",
    "import re\n",
    "\n",
    "# 源文件夹\n",
    "source_folder = '/Users/hong/thesis/code/data/8bit_downsampled'\n",
    "\n",
    "# 获取源文件夹中所有文件\n",
    "files = os.listdir(source_folder)\n",
    "\n",
    "# 定义正则表达式来匹配AFF和NFF字段\n",
    "pattern = re.compile(r'_([A-Z]+)_image')\n",
    "\n",
    "# 遍历所有文件并根据文件名划分到AFF和NFF文件夹\n",
    "for file in files:\n",
    "    # 使用正则表达式匹配文件名\n",
    "    match = re.search(pattern, file)\n",
    "    if match:\n",
    "        fracture_type = match.group(1)\n",
    "        source_file_path = os.path.join(source_folder, file)\n",
    "        # 判断骨折类型并创建相应的目标文件夹\n",
    "        if fracture_type == 'AFF':\n",
    "            target_folder = '/Users/hong/thesis/code/data/8bit_downsampled/AFF'\n",
    "        elif fracture_type == 'NFF':\n",
    "            target_folder = '/Users/hong/thesis/code/data/8bit_downsampled/NFF'\n",
    "        else:\n",
    "            print(f\"Unknown fracture type for file: {file}\")\n",
    "            continue\n",
    "        \n",
    "        # 如果目标文件夹不存在，就创建它\n",
    "        if not os.path.exists(target_folder):\n",
    "            os.makedirs(target_folder)\n",
    "        \n",
    "        # 移动文件到目标文件夹\n",
    "        target_file_path = os.path.join(target_folder, file)\n",
    "        shutil.move(source_file_path, target_file_path)\n"
   ]
  },
  {
   "cell_type": "markdown",
   "metadata": {},
   "source": [
    "# Read image, move to train, validation and test folder"
   ]
  },
  {
   "cell_type": "code",
   "execution_count": 6,
   "metadata": {},
   "outputs": [
    {
     "name": "stdout",
     "output_type": "stream",
     "text": [
      "Moved 695 images from AFF folder to the target folder.\n"
     ]
    }
   ],
   "source": [
    "import os\n",
    "import shutil\n",
    "\n",
    "# 源文件夹和目标文件夹\n",
    "aff_folder = '/Users/hong/thesis/code/data/8bit_downsampled/AFF'\n",
    "target_folder = '/Users/hong/thesis/code/data/8bit_downsampled/train/AFF'\n",
    "\n",
    "# 获取AFF文件夹中的所有图片文件列表\n",
    "aff_files = os.listdir(aff_folder)\n",
    "\n",
    "# 计算要移动的图片数量（前80%）\n",
    "num_images_to_move = int(0.8 * len(aff_files))\n",
    "\n",
    "# 遍历前80%的图片并移动到目标文件夹\n",
    "for i in range(num_images_to_move):\n",
    "    source_file = os.path.join(aff_folder, aff_files[i])\n",
    "    target_file = os.path.join(target_folder, aff_files[i])\n",
    "    shutil.move(source_file, target_file)\n",
    "\n",
    "print(f\"Moved {num_images_to_move} images from AFF folder to the target folder.\")\n"
   ]
  }
 ],
 "metadata": {
  "kernelspec": {
   "display_name": "Python 3",
   "language": "python",
   "name": "python3"
  },
  "language_info": {
   "codemirror_mode": {
    "name": "ipython",
    "version": 3
   },
   "file_extension": ".py",
   "mimetype": "text/x-python",
   "name": "python",
   "nbconvert_exporter": "python",
   "pygments_lexer": "ipython3",
   "version": "3.9.17"
  },
  "orig_nbformat": 4
 },
 "nbformat": 4,
 "nbformat_minor": 2
}
