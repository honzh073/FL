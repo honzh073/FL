{
 "cells": [
  {
   "cell_type": "code",
   "execution_count": 1,
   "metadata": {},
   "outputs": [
    {
     "name": "stdout",
     "output_type": "stream",
     "text": [
      "Combined data saved to /local/data1/honzh073/local_repository/FL/code/4_centralized_learning/csv_files/combined_data1.json\n"
     ]
    }
   ],
   "source": [
    "import json\n",
    "\n",
    "# 读取JSON文件\n",
    "json_files = [\n",
    "    \"/local/data1/honzh073/data/data1.json\",\n",
    "    \"/local/data1/honzh073/data/hospital18_1.json\",\n",
    "    \"/local/data1/honzh073/data/hospital55_1.json\"\n",
    "]\n",
    "\n",
    "data_combined = {\"train\": [], \"val\": []}\n",
    "\n",
    "# 合并数据\n",
    "for json_file in json_files:\n",
    "    with open(json_file, 'r') as file:\n",
    "        data = json.load(file)\n",
    "        if \"train\" in data:\n",
    "            data_combined[\"train\"].extend(data[\"train\"])\n",
    "        if \"val\" in data:\n",
    "            data_combined[\"val\"].extend(data[\"val\"])\n",
    "\n",
    "# 输出位置\n",
    "output_path = \"/local/data1/honzh073/local_repository/FL/code/4_centralized_learning/csv_files/combined_data1.json\"\n",
    "\n",
    "# 保存合并后的数据为新的JSON文件\n",
    "with open(output_path, 'w') as json_file:\n",
    "    json.dump(data_combined, json_file, indent=4)\n",
    "\n",
    "print(f\"Combined data saved to {output_path}\")\n"
   ]
  },
  {
   "cell_type": "code",
   "execution_count": 3,
   "metadata": {},
   "outputs": [
    {
     "name": "stdout",
     "output_type": "stream",
     "text": [
      "Combined data saved to /local/data1/honzh073/local_repository/FL/code/4_centralized_learning/csv_files/combined_data2.json\n"
     ]
    }
   ],
   "source": [
    "import json\n",
    "\n",
    "# 读取JSON文件\n",
    "json_files = [\n",
    "    \"/local/data1/honzh073/data/data2.json\",\n",
    "    \"/local/data1/honzh073/data/hospital18_2.json\",\n",
    "    \"/local/data1/honzh073/data/hospital55_2.json\"\n",
    "]\n",
    "\n",
    "data_combined = {\"train\": [], \"val\": []}\n",
    "\n",
    "# 合并数据\n",
    "for json_file in json_files:\n",
    "    with open(json_file, 'r') as file:\n",
    "        data = json.load(file)\n",
    "        if \"train\" in data:\n",
    "            data_combined[\"train\"].extend(data[\"train\"])\n",
    "        if \"val\" in data:\n",
    "            data_combined[\"val\"].extend(data[\"val\"])\n",
    "\n",
    "# 输出位置\n",
    "output_path = \"/local/data1/honzh073/local_repository/FL/code/4_centralized_learning/csv_files/combined_data2.json\"\n",
    "\n",
    "# 保存合并后的数据为新的JSON文件\n",
    "with open(output_path, 'w') as json_file:\n",
    "    json.dump(data_combined, json_file, indent=4)\n",
    "\n",
    "print(f\"Combined data saved to {output_path}\")\n"
   ]
  },
  {
   "cell_type": "code",
   "execution_count": 4,
   "metadata": {},
   "outputs": [
    {
     "name": "stdout",
     "output_type": "stream",
     "text": [
      "Combined data saved to /local/data1/honzh073/local_repository/FL/code/4_centralized_learning/csv_files/combined_data3.json\n"
     ]
    }
   ],
   "source": [
    "import json\n",
    "\n",
    "# 读取JSON文件\n",
    "json_files = [\n",
    "    \"/local/data1/honzh073/data/data3.json\",\n",
    "    \"/local/data1/honzh073/data/hospital18_3.json\",\n",
    "    \"/local/data1/honzh073/data/hospital55_3.json\"\n",
    "]\n",
    "\n",
    "data_combined = {\"train\": [], \"val\": []}\n",
    "\n",
    "# 合并数据\n",
    "for json_file in json_files:\n",
    "    with open(json_file, 'r') as file:\n",
    "        data = json.load(file)\n",
    "        if \"train\" in data:\n",
    "            data_combined[\"train\"].extend(data[\"train\"])\n",
    "        if \"val\" in data:\n",
    "            data_combined[\"val\"].extend(data[\"val\"])\n",
    "\n",
    "# 输出位置\n",
    "output_path = \"/local/data1/honzh073/local_repository/FL/code/4_centralized_learning/csv_files/combined_data3.json\"\n",
    "\n",
    "# 保存合并后的数据为新的JSON文件\n",
    "with open(output_path, 'w') as json_file:\n",
    "    json.dump(data_combined, json_file, indent=4)\n",
    "\n",
    "print(f\"Combined data saved to {output_path}\")\n"
   ]
  }
 ],
 "metadata": {
  "kernelspec": {
   "display_name": "myenv",
   "language": "python",
   "name": "python3"
  },
  "language_info": {
   "codemirror_mode": {
    "name": "ipython",
    "version": 3
   },
   "file_extension": ".py",
   "mimetype": "text/x-python",
   "name": "python",
   "nbconvert_exporter": "python",
   "pygments_lexer": "ipython3",
   "version": "3.9.17"
  }
 },
 "nbformat": 4,
 "nbformat_minor": 2
}
