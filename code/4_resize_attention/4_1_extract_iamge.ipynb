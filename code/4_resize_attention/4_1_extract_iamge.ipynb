{
 "cells": [
  {
   "cell_type": "code",
   "execution_count": 1,
   "metadata": {},
   "outputs": [
    {
     "name": "stdout",
     "output_type": "stream",
     "text": [
      "CSV file has been created and saved to: /local/data1/honzh073/local_repo/FL/code/4_resize/image_data.csv\n"
     ]
    }
   ],
   "source": [
    "# create csv file to save image location\n",
    "\n",
    "import os\n",
    "import csv\n",
    "\n",
    "def create_csv(image_folder, csv_file_path):\n",
    "    # Define the CSV header fields\n",
    "    fieldnames = ['HospitalID', 'PatientID', 'ImageID', 'ImagePath', 'Label']\n",
    "    \n",
    "    # Open the CSV file in write mode\n",
    "    with open(csv_file_path, 'w', newline='') as csvfile:\n",
    "        # Create a CSV writer object and write the header\n",
    "        writer = csv.DictWriter(csvfile, fieldnames=fieldnames)\n",
    "        writer.writeheader()\n",
    "\n",
    "        # Iterate through files in the folder\n",
    "        for filename in sorted(os.listdir(image_folder)):\n",
    "            # Construct the complete image file path\n",
    "            image_path = os.path.join(image_folder, filename)\n",
    "\n",
    "            # Parse the filename to extract HospitalID, PatientID, image number, and image label\n",
    "            parts = filename.split('_')\n",
    "            hospital_id = parts[3]\n",
    "            patient_id = parts[1]\n",
    "            image_number = parts[6]\n",
    "            image_label = parts[4]\n",
    "\n",
    "            # Write data into the CSV file\n",
    "            writer.writerow({\n",
    "                'HospitalID': hospital_id,\n",
    "                'PatientID': patient_id,\n",
    "                'ImageID': image_number,\n",
    "                'ImagePath': image_path,\n",
    "                'Label': image_label\n",
    "            })\n",
    "\n",
    "    # Print a message indicating that the CSV file has been created and saved\n",
    "    print(\"CSV file has been created and saved to:\", csv_file_path)\n",
    "\n",
    "\n",
    "image_folder = \"/local/data1/honzh073/data/8bit_raw\"\n",
    "csv_file_path = \"/local/data1/honzh073/local_repo/FL/code/4_resize/image_data.csv\"\n",
    "create_csv(image_folder, csv_file_path)\n",
    "\n"
   ]
  },
  {
   "cell_type": "markdown",
   "metadata": {},
   "source": [
    "# copy hospital 43 iamges"
   ]
  },
  {
   "cell_type": "code",
   "execution_count": 4,
   "metadata": {},
   "outputs": [
    {
     "name": "stdout",
     "output_type": "stream",
     "text": [
      "筛选后的图片数量：245\n",
      "已将HospitalID为43的图片复制到新文件夹:/local/data1/honzh073/local_repo/FL/code/4_resize/Data\n"
     ]
    }
   ],
   "source": [
    "import pandas as pd\n",
    "import shutil\n",
    "import os\n",
    "\n",
    "# 读取CSV文件\n",
    "csv_file_path = \"/local/data1/honzh073/local_repo/FL/code/4_resize/image_data.csv\"\n",
    "data = pd.read_csv(csv_file_path)\n",
    "\n",
    "# 筛选出HospitalID为43的行\n",
    "filtered_data = data[data['HospitalID'] == 43]\n",
    "\n",
    "# 输入和输出文件夹路径\n",
    "input_folder = \"/local/data1/honzh073/local_repo/FL/code/4_resize/Images\"\n",
    "output_folder = \"/local/data1/honzh073/local_repo/FL/code/4_resize/Data\"\n",
    "\n",
    "# 创建输出文件夹\n",
    "os.makedirs(output_folder, exist_ok=True)\n",
    "\n",
    "# 复制图片到新文件夹\n",
    "for index, row in filtered_data.iterrows():\n",
    "    image_path = row['ImagePath']\n",
    "    image_name = os.path.basename(image_path)\n",
    "    output_path = os.path.join(output_folder, image_name)\n",
    "    \n",
    "    # 复制图片\n",
    "    shutil.copy(image_path, output_path)\n",
    "    \n",
    "    \n",
    "print(f\"筛选后的图片数量：{len(filtered_data)}\")\n",
    "\n",
    "print(f\"已将HospitalID为43的图片复制到新文件夹:{output_folder}\")\n"
   ]
  },
  {
   "cell_type": "code",
   "execution_count": null,
   "metadata": {},
   "outputs": [],
   "source": []
  }
 ],
 "metadata": {
  "kernelspec": {
   "display_name": "myenv",
   "language": "python",
   "name": "python3"
  },
  "language_info": {
   "codemirror_mode": {
    "name": "ipython",
    "version": 3
   },
   "file_extension": ".py",
   "mimetype": "text/x-python",
   "name": "python",
   "nbconvert_exporter": "python",
   "pygments_lexer": "ipython3",
   "version": "3.9.17"
  },
  "orig_nbformat": 4
 },
 "nbformat": 4,
 "nbformat_minor": 2
}
