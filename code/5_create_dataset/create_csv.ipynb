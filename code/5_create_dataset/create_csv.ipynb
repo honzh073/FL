{
 "cells": [
  {
   "cell_type": "code",
   "execution_count": 2,
   "metadata": {},
   "outputs": [
    {
     "name": "stdout",
     "output_type": "stream",
     "text": [
      "CSV file has been created and saved to: /local/data1/honzh073/local_repository/FL/code/5_create_dataset/all_image.csv\n"
     ]
    }
   ],
   "source": [
    "import os\n",
    "import csv\n",
    "\n",
    "def create_csv(image_folder, csv_file_path):\n",
    "    # CSV header\n",
    "    fieldnames = ['HospitalID', 'PatientID', 'ImageID', 'ImagePath', 'Label']\n",
    "    \n",
    "    # open the CSV file in write mode\n",
    "    with open(csv_file_path, 'w', newline='') as csvfile:\n",
    "        # Create a CSV writer object and write the header\n",
    "        writer = csv.DictWriter(csvfile, fieldnames=fieldnames)\n",
    "        writer.writeheader()\n",
    "\n",
    "        for filename in sorted(os.listdir(image_folder)):\n",
    "            # complete image file path\n",
    "            image_path = os.path.join(image_folder, filename)\n",
    "\n",
    "            # filename to extract HospitalID, PatientID, image number, and image label\n",
    "            parts = filename.split('_')\n",
    "            hospital_id = parts[3]\n",
    "            patient_id = parts[1]\n",
    "            image_number = parts[6]\n",
    "            image_label = parts[4]\n",
    "\n",
    "            # write data into the CSV file\n",
    "            writer.writerow({\n",
    "                'HospitalID': hospital_id,\n",
    "                'PatientID': patient_id,\n",
    "                'ImageID': image_number,\n",
    "                'ImagePath': image_path,\n",
    "                'Label': image_label\n",
    "            })\n",
    "\n",
    "    # created and saved\n",
    "    print(\"CSV file has been created and saved to:\", csv_file_path)\n",
    "\n",
    "\n",
    "image_folder = \"/local/data1/honzh073/data/8bit_down224\"\n",
    "csv_file_path = \"/local/data1/honzh073/local_repository/FL/code/5_create_dataset/all_image.csv\"\n",
    "\n",
    "create_csv(image_folder, csv_file_path)\n"
   ]
  },
  {
   "cell_type": "markdown",
   "metadata": {},
   "source": [
    "# single hospital"
   ]
  },
  {
   "cell_type": "code",
   "execution_count": 2,
   "metadata": {},
   "outputs": [
    {
     "name": "stdout",
     "output_type": "stream",
     "text": [
      "Saved single hospital csv.\n"
     ]
    }
   ],
   "source": [
    "import csv\n",
    "import os\n",
    "from collections import defaultdict\n",
    "\n",
    "def filter_hospital_data(input_csv_path, target_hospital_ids):\n",
    "    patient_data = defaultdict(list)\n",
    "\n",
    "    with open(input_csv_path, 'r') as csvfile:\n",
    "        reader = csv.DictReader(csvfile)\n",
    "        for row in reader:\n",
    "            if row['HospitalID'] in target_hospital_ids:\n",
    "                patient_id = row['PatientID']\n",
    "                patient_data[patient_id].append(row)\n",
    "\n",
    "    hospital_55_data = []\n",
    "    for images in patient_data.values():\n",
    "        hospital_55_data.extend(images)\n",
    "\n",
    "    return hospital_55_data\n",
    "\n",
    "# Input and output paths\n",
    "input_csv_path = \"/local/data1/honzh073/local_repository/FL/code/5_create_dataset/all_image.csv\"\n",
    "\n",
    "output_folder = \"/local/data1/honzh073/local_repository/FL/code/5_create_dataset\"\n",
    "\n",
    "# Single hospital id\n",
    "target_hospital_ids = ['55']\n",
    "\n",
    "# Get data for hospital 55\n",
    "hospital_data = filter_hospital_data(input_csv_path, target_hospital_ids)\n",
    "\n",
    "# Write hospital 55 data to CSV file\n",
    "def write_to_csv(file_path, data):\n",
    "    with open(file_path, 'w', newline='') as csvfile:\n",
    "        writer = csv.DictWriter(csvfile, fieldnames=data[0].keys())\n",
    "        writer.writeheader()\n",
    "        writer.writerows(data)\n",
    "\n",
    "# Save hospital 55 data to 'hospital55.csv'\n",
    "write_to_csv(os.path.join(output_folder, 'hospital55.csv'), hospital_data)\n",
    "\n",
    "print(\"Saved single hospital csv.\")\n"
   ]
  },
  {
   "cell_type": "code",
   "execution_count": 4,
   "metadata": {},
   "outputs": [
    {
     "name": "stdout",
     "output_type": "stream",
     "text": [
      "已保存训练集CSV文件: /local/data1/honzh073/local_repository/FL/code/5_create_dataset/train.csv\n",
      "已保存验证集CSV文件: /local/data1/honzh073/local_repository/FL/code/5_create_dataset/val.csv\n"
     ]
    }
   ],
   "source": [
    "import pandas as pd\n",
    "from sklearn.model_selection import train_test_split\n",
    "\n",
    "# 读取CSV文件\n",
    "csv_path = \"/local/data1/honzh073/local_repository/FL/code/5_create_dataset/hospital18.csv\"\n",
    "df = pd.read_csv(csv_path)\n",
    "\n",
    "# 获取所有患者ID\n",
    "patient_ids = df['PatientID'].unique()\n",
    "\n",
    "# 随机划分训练集和验证集\n",
    "train_patient_ids, val_patient_ids = train_test_split(patient_ids, test_size=0.3, random_state=42)\n",
    "\n",
    "# 根据患者ID筛选数据\n",
    "train_data = df[df['PatientID'].isin(train_patient_ids)]\n",
    "val_data = df[df['PatientID'].isin(val_patient_ids)]\n",
    "\n",
    "# 保存划分后的CSV文件\n",
    "train_csv_path = \"/local/data1/honzh073/local_repository/FL/code/5_create_dataset/train.csv\"\n",
    "val_csv_path = \"/local/data1/honzh073/local_repository/FL/code/5_create_dataset/val.csv\"\n",
    "\n",
    "train_data.to_csv(train_csv_path, index=False)\n",
    "val_data.to_csv(val_csv_path, index=False)\n",
    "\n",
    "print(f\"已保存训练集CSV文件: {train_csv_path}\")\n",
    "print(f\"已保存验证集CSV文件: {val_csv_path}\")\n"
   ]
  },
  {
   "cell_type": "code",
   "execution_count": 9,
   "metadata": {},
   "outputs": [
    {
     "name": "stdout",
     "output_type": "stream",
     "text": [
      "已保存训练集CSV文件: /local/data1/honzh073/data/train.csv\n",
      "已保存验证集CSV文件: /local/data1/honzh073/data/val.csv\n"
     ]
    }
   ],
   "source": [
    "import pandas as pd\n",
    "from sklearn.model_selection import train_test_split\n",
    "import random\n",
    "import time\n",
    "\n",
    "def split_csv_by_patient():\n",
    "    train_ratio=0.7\n",
    "    csv_path = '/local/data1/honzh073/data/data.csv'\n",
    "    output_folder = '/local/data1/honzh073/data'\n",
    "    \n",
    "    # 读取CSV文件\n",
    "    df = pd.read_csv(csv_path)\n",
    "\n",
    "    # 获取所有患者ID\n",
    "    patient_ids = df['PatientID'].unique()\n",
    "\n",
    "    # 生成随机种子\n",
    "    random_seed = int(time.time())\n",
    "    random.seed(random_seed)\n",
    "\n",
    "    # 随机划分训练集和验证集\n",
    "    train_patient_ids, val_patient_ids = train_test_split(patient_ids, test_size=1 - train_ratio, random_state=random_seed)\n",
    "\n",
    "    # 根据患者ID筛选数据\n",
    "    train_data = df[df['PatientID'].isin(train_patient_ids)]\n",
    "    val_data = df[df['PatientID'].isin(val_patient_ids)]\n",
    "\n",
    "    # 保存划分后的CSV文件\n",
    "    train_csv_path = f\"{output_folder}/train.csv\"\n",
    "    val_csv_path = f\"{output_folder}/val.csv\"\n",
    "\n",
    "    train_data.to_csv(train_csv_path, index=False)\n",
    "    val_data.to_csv(val_csv_path, index=False)\n",
    "\n",
    "    print(f\"已保存训练集CSV文件: {train_csv_path}\")\n",
    "    print(f\"已保存验证集CSV文件: {val_csv_path}\")\n",
    "\n",
    "# 示例用法\n",
    "split_csv_by_patient()\n"
   ]
  }
 ],
 "metadata": {
  "kernelspec": {
   "display_name": "myenv",
   "language": "python",
   "name": "python3"
  },
  "language_info": {
   "codemirror_mode": {
    "name": "ipython",
    "version": 3
   },
   "file_extension": ".py",
   "mimetype": "text/x-python",
   "name": "python",
   "nbconvert_exporter": "python",
   "pygments_lexer": "ipython3",
   "version": "3.9.17"
  }
 },
 "nbformat": 4,
 "nbformat_minor": 2
}
