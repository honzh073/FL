{
 "cells": [
  {
   "cell_type": "code",
   "execution_count": 1,
   "metadata": {},
   "outputs": [
    {
     "name": "stdout",
     "output_type": "stream",
     "text": [
      "CSV file has been created and saved to: /local/data1/honzh073/local_repository/FL/code/6_model_test/all_image_data.csv\n"
     ]
    }
   ],
   "source": [
    "import os\n",
    "import csv\n",
    "\n",
    "def create_csv(image_folder, csv_file_path):\n",
    "    # Define the CSV header fields\n",
    "    fieldnames = ['HospitalID', 'PatientID', 'ImageID', 'ImagePath', 'Label']\n",
    "    \n",
    "    # Open the CSV file in write mode\n",
    "    with open(csv_file_path, 'w', newline='') as csvfile:\n",
    "        # Create a CSV writer object and write the header\n",
    "        writer = csv.DictWriter(csvfile, fieldnames=fieldnames)\n",
    "        writer.writeheader()\n",
    "\n",
    "        # Iterate through files in the folder\n",
    "        for filename in sorted(os.listdir(image_folder)):\n",
    "            # Construct the complete image file path\n",
    "            image_path = os.path.join(image_folder, filename)\n",
    "\n",
    "            # Parse the filename to extract HospitalID, PatientID, image number, and image label\n",
    "            parts = filename.split('_')\n",
    "            hospital_id = parts[3]\n",
    "            patient_id = parts[1]\n",
    "            image_number = parts[6]\n",
    "            image_label = parts[4]\n",
    "\n",
    "            # Write data into the CSV file\n",
    "            writer.writerow({\n",
    "                'HospitalID': hospital_id,\n",
    "                'PatientID': patient_id,\n",
    "                'ImageID': image_number,\n",
    "                'ImagePath': image_path,\n",
    "                'Label': image_label\n",
    "            })\n",
    "\n",
    "    # Print a message indicating that the CSV file has been created and saved\n",
    "    print(\"CSV file has been created and saved to:\", csv_file_path)\n",
    "\n",
    "\n",
    "image_folder = \"/local/data1/honzh073/data/8bit_down224\"\n",
    "csv_file_path = \"/local/data1/honzh073/local_repository/FL/code/6_model_test/all_image_data.csv\"\n",
    "create_csv(image_folder, csv_file_path)\n"
   ]
  },
  {
   "cell_type": "code",
   "execution_count": 5,
   "metadata": {},
   "outputs": [
    {
     "name": "stdout",
     "output_type": "stream",
     "text": [
      "Saved single hospital csv.\n"
     ]
    }
   ],
   "source": [
    "import csv\n",
    "import os\n",
    "from collections import defaultdict\n",
    "\n",
    "def filter_hospital_data(input_csv_path, target_hospital_ids):\n",
    "    patient_data = defaultdict(list)\n",
    "\n",
    "    with open(input_csv_path, 'r') as csvfile:\n",
    "        reader = csv.DictReader(csvfile)\n",
    "        for row in reader:\n",
    "            if row['HospitalID'] in target_hospital_ids:\n",
    "                patient_id = row['PatientID']\n",
    "                patient_data[patient_id].append(row)\n",
    "\n",
    "    hospital_55_data = []\n",
    "    for images in patient_data.values():\n",
    "        hospital_55_data.extend(images)\n",
    "\n",
    "    return hospital_55_data\n",
    "\n",
    "# Input and output paths\n",
    "input_csv_path = \"/local/data1/honzh073/local_repository/FL/code/6_model_test/all_image_data.csv\"\n",
    "output_folder = '/local/data1/honzh073/local_repository/FL/code/6_model_test'\n",
    "\n",
    "# Single hospital id\n",
    "target_hospital_ids = ['45']\n",
    "\n",
    "# Get data for hospital 55\n",
    "hospital_55_data = filter_hospital_data(input_csv_path, target_hospital_ids)\n",
    "\n",
    "# Write hospital 55 data to CSV file\n",
    "def write_to_csv(file_path, data):\n",
    "    with open(file_path, 'w', newline='') as csvfile:\n",
    "        writer = csv.DictWriter(csvfile, fieldnames=data[0].keys())\n",
    "        writer.writeheader()\n",
    "        writer.writerows(data)\n",
    "\n",
    "# Save hospital 55 data to 'hospital55.csv'\n",
    "write_to_csv(os.path.join(output_folder, 'hospital45.csv'), hospital_55_data)\n",
    "\n",
    "print(\"Saved single hospital csv.\")\n"
   ]
  }
 ],
 "metadata": {
  "kernelspec": {
   "display_name": "myenv",
   "language": "python",
   "name": "python3"
  },
  "language_info": {
   "codemirror_mode": {
    "name": "ipython",
    "version": 3
   },
   "file_extension": ".py",
   "mimetype": "text/x-python",
   "name": "python",
   "nbconvert_exporter": "python",
   "pygments_lexer": "ipython3",
   "version": "3.9.17"
  }
 },
 "nbformat": 4,
 "nbformat_minor": 2
}
