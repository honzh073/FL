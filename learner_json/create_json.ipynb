{
 "cells": [
  {
   "cell_type": "code",
   "execution_count": 6,
   "metadata": {},
   "outputs": [
    {
     "name": "stdout",
     "output_type": "stream",
     "text": [
      "JSON file 'hospital43.json' created for hospital IDs: 43\n",
      "JSON file 'hospital55_33.json' created for hospital IDs: 55,33\n",
      "JSON file 'hospital54_18.json' created for hospital IDs: 54,18\n"
     ]
    }
   ],
   "source": [
    "import os\n",
    "import json\n",
    "import random\n",
    "import glob\n",
    "\n",
    "def create_dataset_json_multisite(root_dir, output_folder):\n",
    "    # Get a list of all image files in the root directory\n",
    "    subject_list = glob.glob(os.path.join(root_dir, '*.png'))  # Update the file extension if necessary\n",
    "    \n",
    "    # Group hospitals\n",
    "    hospital_groups = {\n",
    "        '43': 'hospital43.json',\n",
    "        '55,33': 'hospital55_33.json',\n",
    "        '54,18': 'hospital54_18.json'\n",
    "    }\n",
    "    \n",
    "    for hospital_ids, output_filename in hospital_groups.items():\n",
    "        # Filter images for the current hospital group\n",
    "        filtered_images = [file for file in subject_list if any(f\"_hospital_{hospital_id}_\" in file for hospital_id in hospital_ids.split(','))]\n",
    "        \n",
    "        # Shuffle the images and split them into train and val sets (70-30 split)\n",
    "        random.shuffle(filtered_images)\n",
    "        num_validation = int(len(filtered_images) * 0.3)\n",
    "        train_data = filtered_images[:-num_validation]\n",
    "        val_data = filtered_images[-num_validation:]\n",
    "        \n",
    "        # Create the dataset dictionary\n",
    "        dataset = {\"train\": [], \"val\": []}\n",
    "        for file in train_data:\n",
    "            dataset[\"train\"].append({\n",
    "                \"image_path\": file,\n",
    "                \"hospital_id\": hospital_ids,\n",
    "                \"label\": os.path.basename(file).split('_')[4].split('.')[0]  # Extract label information, adjust the index accordingly\n",
    "            })\n",
    "        for file in val_data:\n",
    "            dataset[\"val\"].append({\n",
    "                \"image_path\": file,\n",
    "                \"hospital_id\": hospital_ids,\n",
    "                \"label\": os.path.basename(file).split('_')[4].split('.')[0]  # Extract label information, adjust the index accordingly\n",
    "            })\n",
    "\n",
    "        # Write the dataset to JSON file\n",
    "        with open(os.path.join(output_folder, output_filename), 'w') as json_file:\n",
    "            json.dump(dataset, json_file, indent=4)\n",
    "            \n",
    "        print(f\"JSON file '{output_filename}' created for hospital IDs: {hospital_ids}\")\n",
    "\n",
    "# Example usage\n",
    "root_directory = \"/local/data1/honzh073/data/8bit_down224\"\n",
    "output_folder = \"/local/data1/honzh073/local_repository/FL/learner_json\"\n",
    "\n",
    "create_dataset_json_multisite(root_directory, output_folder)\n"
   ]
  }
 ],
 "metadata": {
  "kernelspec": {
   "display_name": "base",
   "language": "python",
   "name": "python3"
  },
  "language_info": {
   "codemirror_mode": {
    "name": "ipython",
    "version": 3
   },
   "file_extension": ".py",
   "mimetype": "text/x-python",
   "name": "python",
   "nbconvert_exporter": "python",
   "pygments_lexer": "ipython3",
   "version": "3.9.17"
  }
 },
 "nbformat": 4,
 "nbformat_minor": 2
}
