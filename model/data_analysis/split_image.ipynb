{
 "cells": [
  {
   "cell_type": "markdown",
   "source": [],
   "metadata": {}
  },
  {
   "cell_type": "markdown",
   "source": [
    "Folder stracture:\n",
    "\n",
    "dataset\n",
    "├── AFF\n",
    "│   ├── hospital_1\n",
    "│   │   ├── patient_BCEXMHRRAZ\n",
    "│   │   │   └── image1.png\n",
    "│   │   ├── ...\n",
    "│   ├── hospital_2\n",
    "│   │   ├── ...\n",
    "├── NFF\n",
    "│   ├── hospital_1\n",
    "│   │   ├── ...\n",
    "│   ├── hospital_2\n",
    "│   │   ├── ...\n",
    "\n",
    "NB: some hospitals only have one type images, either appear in AFF or NFF folder.\n",
    "\n",
    "split by parts of image names.\n",
    "for example:\n",
    "\n",
    "patient_ABEFSLVKVT_hospital_55_NFF_image_1\n",
    "\n",
    "[1]: patient id\n",
    "\n",
    "[3]: hospital number id\n",
    "\n",
    "[4]: image type"
   ],
   "metadata": {}
  },
  {
   "cell_type": "code",
   "execution_count": null,
   "source": [
    "import os\n",
    "import shutil\n",
    "\n",
    "# Image folder without split\n",
    "image_folder = '/local/data1/honzh073/centralized_learning/data/8bit_images'\n",
    "\n",
    "# new dataset folder\n",
    "dataset_folder = '/local/data1/honzh073/centralized_learning/data/8bit_hospital'\n",
    "\n",
    "# create it if not exist\n",
    "if not os.path.exists(dataset_folder):\n",
    "    os.makedirs(dataset_folder)\n",
    "\n",
    "# AFF and NFF folders\n",
    "fracture_types = ['AFF', 'NFF']\n",
    "\n",
    "# read images \n",
    "for filename in os.listdir(image_folder):\n",
    "        parts = filename.split('_')\n",
    "        image_type = parts[4]\n",
    "        hospital_number = parts[3]\n",
    "        patient_id = parts[1]\n",
    "\n",
    "        # fracture types\n",
    "        if image_type == 'AFF':\n",
    "            fracture_types = 'AFF'\n",
    "        elif image_type == 'NFF':\n",
    "            fracture_types = 'NFF'\n",
    "        else:\n",
    "            continue\n",
    "    \n",
    "        # fracture type folders\n",
    "        fracture_types_folder = os.path.join(dataset_folder, fracture_types)\n",
    "        os.makedirs(fracture_types_folder, exist_ok=True)\n",
    "\n",
    "        # hospital-specific folders\n",
    "        hospital_folder = os.path.join(fracture_types_folder, f'hospital_{hospital_number}')\n",
    "        os.makedirs(hospital_folder, exist_ok=True)\n",
    "\n",
    "        # patient-specific folders\n",
    "        patient_folder = os.path.join(hospital_folder, f'patient_{patient_id}')\n",
    "        os.makedirs(patient_folder, exist_ok=True)\n",
    "\n",
    "        # Move the image to the patient-specific folders\n",
    "        src_path = os.path.join(image_folder, filename)\n",
    "        dest_path = os.path.join(patient_folder, filename)\n",
    "        shutil.move(src_path, dest_path)\n"
   ],
   "outputs": [],
   "metadata": {}
  },
  {
   "cell_type": "markdown",
   "source": [
    "# Split by AFF and NFF\n",
    "\n",
    "can also done by code above"
   ],
   "metadata": {}
  },
  {
   "cell_type": "code",
   "execution_count": null,
   "source": [
    "# import os\n",
    "# import shutil\n",
    "\n",
    "# # Define the source directory containing the images\n",
    "# source_dir = '/local/data1/honzh073/model/data/8bit_down_sampled'\n",
    "\n",
    "# # Define the dataset directory where the NFF and AFF directories will be created\n",
    "# dataset_dir = '/local/data1/honzh073/model/data/8bit_dataset'\n",
    "\n",
    "# # Create NFF and AFF directories under the dataset directory\n",
    "# nff_dir = os.path.join(dataset_dir, 'NFF')\n",
    "# aff_dir = os.path.join(dataset_dir, 'AFF')\n",
    "# os.makedirs(nff_dir, exist_ok=True)\n",
    "# os.makedirs(aff_dir, exist_ok=True)\n",
    "\n",
    "# # Iterate through the images in the source directory\n",
    "# for filename in os.listdir(source_dir):\n",
    "#     # Get the full path of the image\n",
    "#     image_path = os.path.join(source_dir, filename)\n",
    "    \n",
    "#     # Check if the image title contains \"NFF\" or \"AFF\"\n",
    "#     if \"NFF\" in filename:\n",
    "#         # Copy the image to the NFF directory\n",
    "#         shutil.copy(image_path, os.path.join(nff_dir, filename))\n",
    "#     elif \"AFF\" in filename:\n",
    "#         # Copy the image to the AFF directory\n",
    "#         shutil.copy(image_path, os.path.join(aff_dir, filename))\n",
    "\n",
    "# print(\"Images have been copied to NFF and AFF directories.\")\n"
   ],
   "outputs": [],
   "metadata": {}
  }
 ],
 "metadata": {
  "orig_nbformat": 4,
  "language_info": {
   "name": "python",
   "version": "3.9.17",
   "mimetype": "text/x-python",
   "codemirror_mode": {
    "name": "ipython",
    "version": 3
   },
   "pygments_lexer": "ipython3",
   "nbconvert_exporter": "python",
   "file_extension": ".py"
  },
  "kernelspec": {
   "name": "python3",
   "display_name": "Python 3.9.17 64-bit ('base': conda)"
  },
  "interpreter": {
   "hash": "3e04aa2904e12bb0da92c35f6c3111901f3911b03f5cb8f33364d8658f7b64f9"
  }
 },
 "nbformat": 4,
 "nbformat_minor": 2
}