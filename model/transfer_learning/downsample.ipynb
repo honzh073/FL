{
 "cells": [
  {
   "cell_type": "code",
   "execution_count": 4,
   "source": [
    "import os\n",
    "from PIL import Image, ImageOps\n",
    "\n",
    "# Define the input and output directories\n",
    "input_dir = '/local/data1/honzh073/centralized_learning/transfer_learning/images/Non_fractured'\n",
    "output_dir = '/local/data1/honzh073/centralized_learning/transfer_learning/downsample_images/Non_fractured'\n",
    "\n",
    "# Create the output directory if it doesn't exist\n",
    "os.makedirs(output_dir, exist_ok=True)\n",
    "\n",
    "# Iterate through the images in the input directory\n",
    "for filename in os.listdir(input_dir):\n",
    "    if filename.endswith(\".png\"):\n",
    "        # Load the image using PIL\n",
    "        image_path = os.path.join(input_dir, filename)\n",
    "        image = Image.open(image_path)\n",
    "\n",
    "        # Calculate the desired square size (224x224)\n",
    "        square_size = 224\n",
    "\n",
    "        # Create a square image with zero padding\n",
    "        squared_image = ImageOps.pad(image, (square_size, square_size))\n",
    "\n",
    "        # Resize the squared image to 224x224\n",
    "        resized_image = squared_image.resize((224, 224), Image.ANTIALIAS)\n",
    "\n",
    "        # Save the resized and padded image to the output directory\n",
    "        output_path = os.path.join(output_dir, filename)\n",
    "        resized_image.save(output_path)\n",
    "\n",
    "        print(f\"Processed and saved: {output_path}\")\n"
   ],
   "outputs": [
    {
     "output_type": "stream",
     "name": "stderr",
     "text": [
      "/tmp/ipykernel_91110/205836725.py:25: DeprecationWarning: ANTIALIAS is deprecated and will be removed in Pillow 10 (2023-07-01). Use LANCZOS or Resampling.LANCZOS instead.\n",
      "  resized_image = squared_image.resize((224, 224), Image.ANTIALIAS)\n"
     ]
    },
    {
     "output_type": "stream",
     "name": "stdout",
     "text": [
      "Processed and saved: /local/data1/honzh073/centralized_learning/transfer_learning/downsample_images/Non_fractured/IMG0002058.png\n",
      "Processed and saved: /local/data1/honzh073/centralized_learning/transfer_learning/downsample_images/Non_fractured/IMG0001219.png\n",
      "Processed and saved: /local/data1/honzh073/centralized_learning/transfer_learning/downsample_images/Non_fractured/IMG0003985.png\n",
      "Processed and saved: /local/data1/honzh073/centralized_learning/transfer_learning/downsample_images/Non_fractured/IMG0002792.png\n",
      "Processed and saved: /local/data1/honzh073/centralized_learning/transfer_learning/downsample_images/Non_fractured/IMG0003173.png\n",
      "Processed and saved: /local/data1/honzh073/centralized_learning/transfer_learning/downsample_images/Non_fractured/IMG0000975.png\n",
      "Processed and saved: /local/data1/honzh073/centralized_learning/transfer_learning/downsample_images/Non_fractured/IMG0003710.png\n",
      "Processed and saved: /local/data1/honzh073/centralized_learning/transfer_learning/downsample_images/Non_fractured/IMG0002252.png\n",
      "Processed and saved: /local/data1/honzh073/centralized_learning/transfer_learning/downsample_images/Non_fractured/IMG0001068.png\n",
      "Processed and saved: /local/data1/honzh073/centralized_learning/transfer_learning/downsample_images/Non_fractured/IMG0001593.png\n",
      "Processed and saved: /local/data1/honzh073/centralized_learning/transfer_learning/downsample_images/Non_fractured/IMG0001701.png\n",
      "Processed and saved: /local/data1/honzh073/centralized_learning/transfer_learning/downsample_images/Non_fractured/IMG0000795.png\n",
      "Processed and saved: /local/data1/honzh073/centralized_learning/transfer_learning/downsample_images/Non_fractured/IMG0001496.png\n",
      "Processed and saved: /local/data1/honzh073/centralized_learning/transfer_learning/downsample_images/Non_fractured/IMG0001630.png\n",
      "Processed and saved: /local/data1/honzh073/centralized_learning/transfer_learning/downsample_images/Non_fractured/IMG0001689.png\n",
      "Processed and saved: /local/data1/honzh073/centralized_learning/transfer_learning/downsample_images/Non_fractured/IMG0003452.png\n",
      "Processed and saved: /local/data1/honzh073/centralized_learning/transfer_learning/downsample_images/Non_fractured/IMG0000733.png\n",
      "Processed and saved: /local/data1/honzh073/centralized_learning/transfer_learning/downsample_images/Non_fractured/IMG0001104.png\n",
      "Processed and saved: /local/data1/honzh073/centralized_learning/transfer_learning/downsample_images/Non_fractured/IMG0004097.png\n",
      "Processed and saved: /local/data1/honzh073/centralized_learning/transfer_learning/downsample_images/Non_fractured/IMG0001371.png\n",
      "Processed and saved: /local/data1/honzh073/centralized_learning/transfer_learning/downsample_images/Non_fractured/IMG0003723.png\n",
      "Processed and saved: /local/data1/honzh073/centralized_learning/transfer_learning/downsample_images/Non_fractured/IMG0003407.png\n",
      "Processed and saved: /local/data1/honzh073/centralized_learning/transfer_learning/downsample_images/Non_fractured/IMG0001947.png\n",
      "Processed and saved: /local/data1/honzh073/centralized_learning/transfer_learning/downsample_images/Non_fractured/IMG0002872.png\n",
      "Processed and saved: /local/data1/honzh073/centralized_learning/transfer_learning/downsample_images/Non_fractured/IMG0000950.png\n",
      "Processed and saved: /local/data1/honzh073/centralized_learning/transfer_learning/downsample_images/Non_fractured/IMG0000920.png\n",
      "Processed and saved: /local/data1/honzh073/centralized_learning/transfer_learning/downsample_images/Non_fractured/IMG0003474.png\n",
      "Processed and saved: /local/data1/honzh073/centralized_learning/transfer_learning/downsample_images/Non_fractured/IMG0001841.png\n",
      "Processed and saved: /local/data1/honzh073/centralized_learning/transfer_learning/downsample_images/Non_fractured/IMG0003457.png\n",
      "Processed and saved: /local/data1/honzh073/centralized_learning/transfer_learning/downsample_images/Non_fractured/IMG0000404.png\n",
      "Processed and saved: /local/data1/honzh073/centralized_learning/transfer_learning/downsample_images/Non_fractured/IMG0000590.png\n",
      "Processed and saved: /local/data1/honzh073/centralized_learning/transfer_learning/downsample_images/Non_fractured/IMG0003092.png\n",
      "Processed and saved: /local/data1/honzh073/centralized_learning/transfer_learning/downsample_images/Non_fractured/IMG0003227.png\n",
      "Processed and saved: /local/data1/honzh073/centralized_learning/transfer_learning/downsample_images/Non_fractured/IMG0002882.png\n",
      "Processed and saved: /local/data1/honzh073/centralized_learning/transfer_learning/downsample_images/Non_fractured/IMG0000708.png\n",
      "Processed and saved: /local/data1/honzh073/centralized_learning/transfer_learning/downsample_images/Non_fractured/IMG0002052.png\n",
      "Processed and saved: /local/data1/honzh073/centralized_learning/transfer_learning/downsample_images/Non_fractured/IMG0003049.png\n",
      "Processed and saved: /local/data1/honzh073/centralized_learning/transfer_learning/downsample_images/Non_fractured/IMG0002078.png\n",
      "Processed and saved: /local/data1/honzh073/centralized_learning/transfer_learning/downsample_images/Non_fractured/IMG0000101.png\n",
      "Processed and saved: /local/data1/honzh073/centralized_learning/transfer_learning/downsample_images/Non_fractured/IMG0002173.png\n",
      "Processed and saved: /local/data1/honzh073/centralized_learning/transfer_learning/downsample_images/Non_fractured/IMG0000275.png\n",
      "Processed and saved: /local/data1/honzh073/centralized_learning/transfer_learning/downsample_images/Non_fractured/IMG0003555.png\n",
      "Processed and saved: /local/data1/honzh073/centralized_learning/transfer_learning/downsample_images/Non_fractured/IMG0000877.png\n",
      "Processed and saved: /local/data1/honzh073/centralized_learning/transfer_learning/downsample_images/Non_fractured/IMG0002772.png\n",
      "Processed and saved: /local/data1/honzh073/centralized_learning/transfer_learning/downsample_images/Non_fractured/IMG0001798.png\n",
      "Processed and saved: /local/data1/honzh073/centralized_learning/transfer_learning/downsample_images/Non_fractured/IMG0002096.png\n",
      "Processed and saved: /local/data1/honzh073/centralized_learning/transfer_learning/downsample_images/Non_fractured/IMG0004302.png\n"
     ]
    },
    {
     "output_type": "error",
     "ename": "OSError",
     "evalue": "image file is truncated (13 bytes not processed)",
     "traceback": [
      "\u001b[0;31m---------------------------------------------------------------------------\u001b[0m",
      "\u001b[0;31mOSError\u001b[0m                                   Traceback (most recent call last)",
      "Cell \u001b[0;32mIn[4], line 22\u001b[0m\n\u001b[1;32m     19\u001b[0m square_size \u001b[38;5;241m=\u001b[39m \u001b[38;5;241m224\u001b[39m\n\u001b[1;32m     21\u001b[0m \u001b[38;5;66;03m# Create a square image with zero padding\u001b[39;00m\n\u001b[0;32m---> 22\u001b[0m squared_image \u001b[38;5;241m=\u001b[39m \u001b[43mImageOps\u001b[49m\u001b[38;5;241;43m.\u001b[39;49m\u001b[43mpad\u001b[49m\u001b[43m(\u001b[49m\u001b[43mimage\u001b[49m\u001b[43m,\u001b[49m\u001b[43m \u001b[49m\u001b[43m(\u001b[49m\u001b[43msquare_size\u001b[49m\u001b[43m,\u001b[49m\u001b[43m \u001b[49m\u001b[43msquare_size\u001b[49m\u001b[43m)\u001b[49m\u001b[43m)\u001b[49m\n\u001b[1;32m     24\u001b[0m \u001b[38;5;66;03m# Resize the squared image to 224x224\u001b[39;00m\n\u001b[1;32m     25\u001b[0m resized_image \u001b[38;5;241m=\u001b[39m squared_image\u001b[38;5;241m.\u001b[39mresize((\u001b[38;5;241m224\u001b[39m, \u001b[38;5;241m224\u001b[39m), Image\u001b[38;5;241m.\u001b[39mANTIALIAS)\n",
      "File \u001b[0;32m/local/data1/honzh073/anaconda3/envs/myenv/lib/python3.9/site-packages/PIL/ImageOps.py:291\u001b[0m, in \u001b[0;36mpad\u001b[0;34m(image, size, method, color, centering)\u001b[0m\n\u001b[1;32m    270\u001b[0m \u001b[38;5;28;01mdef\u001b[39;00m \u001b[38;5;21mpad\u001b[39m(image, size, method\u001b[38;5;241m=\u001b[39mImage\u001b[38;5;241m.\u001b[39mResampling\u001b[38;5;241m.\u001b[39mBICUBIC, color\u001b[38;5;241m=\u001b[39m\u001b[38;5;28;01mNone\u001b[39;00m, centering\u001b[38;5;241m=\u001b[39m(\u001b[38;5;241m0.5\u001b[39m, \u001b[38;5;241m0.5\u001b[39m)):\n\u001b[1;32m    271\u001b[0m \u001b[38;5;250m    \u001b[39m\u001b[38;5;124;03m\"\"\"\u001b[39;00m\n\u001b[1;32m    272\u001b[0m \u001b[38;5;124;03m    Returns a resized and padded version of the image, expanded to fill the\u001b[39;00m\n\u001b[1;32m    273\u001b[0m \u001b[38;5;124;03m    requested aspect ratio and size.\u001b[39;00m\n\u001b[0;32m   (...)\u001b[0m\n\u001b[1;32m    288\u001b[0m \u001b[38;5;124;03m    :return: An image.\u001b[39;00m\n\u001b[1;32m    289\u001b[0m \u001b[38;5;124;03m    \"\"\"\u001b[39;00m\n\u001b[0;32m--> 291\u001b[0m     resized \u001b[38;5;241m=\u001b[39m \u001b[43mcontain\u001b[49m\u001b[43m(\u001b[49m\u001b[43mimage\u001b[49m\u001b[43m,\u001b[49m\u001b[43m \u001b[49m\u001b[43msize\u001b[49m\u001b[43m,\u001b[49m\u001b[43m \u001b[49m\u001b[43mmethod\u001b[49m\u001b[43m)\u001b[49m\n\u001b[1;32m    292\u001b[0m     \u001b[38;5;28;01mif\u001b[39;00m resized\u001b[38;5;241m.\u001b[39msize \u001b[38;5;241m==\u001b[39m size:\n\u001b[1;32m    293\u001b[0m         out \u001b[38;5;241m=\u001b[39m resized\n",
      "File \u001b[0;32m/local/data1/honzh073/anaconda3/envs/myenv/lib/python3.9/site-packages/PIL/ImageOps.py:267\u001b[0m, in \u001b[0;36mcontain\u001b[0;34m(image, size, method)\u001b[0m\n\u001b[1;32m    265\u001b[0m         \u001b[38;5;28;01mif\u001b[39;00m new_width \u001b[38;5;241m!=\u001b[39m size[\u001b[38;5;241m0\u001b[39m]:\n\u001b[1;32m    266\u001b[0m             size \u001b[38;5;241m=\u001b[39m (new_width, size[\u001b[38;5;241m1\u001b[39m])\n\u001b[0;32m--> 267\u001b[0m \u001b[38;5;28;01mreturn\u001b[39;00m \u001b[43mimage\u001b[49m\u001b[38;5;241;43m.\u001b[39;49m\u001b[43mresize\u001b[49m\u001b[43m(\u001b[49m\u001b[43msize\u001b[49m\u001b[43m,\u001b[49m\u001b[43m \u001b[49m\u001b[43mresample\u001b[49m\u001b[38;5;241;43m=\u001b[39;49m\u001b[43mmethod\u001b[49m\u001b[43m)\u001b[49m\n",
      "File \u001b[0;32m/local/data1/honzh073/anaconda3/envs/myenv/lib/python3.9/site-packages/PIL/Image.py:2156\u001b[0m, in \u001b[0;36mImage.resize\u001b[0;34m(self, size, resample, box, reducing_gap)\u001b[0m\n\u001b[1;32m   2152\u001b[0m     \u001b[38;5;28;01mraise\u001b[39;00m \u001b[38;5;167;01mValueError\u001b[39;00m(msg)\n\u001b[1;32m   2154\u001b[0m size \u001b[38;5;241m=\u001b[39m \u001b[38;5;28mtuple\u001b[39m(size)\n\u001b[0;32m-> 2156\u001b[0m \u001b[38;5;28;43mself\u001b[39;49m\u001b[38;5;241;43m.\u001b[39;49m\u001b[43mload\u001b[49m\u001b[43m(\u001b[49m\u001b[43m)\u001b[49m\n\u001b[1;32m   2157\u001b[0m \u001b[38;5;28;01mif\u001b[39;00m box \u001b[38;5;129;01mis\u001b[39;00m \u001b[38;5;28;01mNone\u001b[39;00m:\n\u001b[1;32m   2158\u001b[0m     box \u001b[38;5;241m=\u001b[39m (\u001b[38;5;241m0\u001b[39m, \u001b[38;5;241m0\u001b[39m) \u001b[38;5;241m+\u001b[39m \u001b[38;5;28mself\u001b[39m\u001b[38;5;241m.\u001b[39msize\n",
      "File \u001b[0;32m/local/data1/honzh073/anaconda3/envs/myenv/lib/python3.9/site-packages/PIL/ImageFile.py:266\u001b[0m, in \u001b[0;36mImageFile.load\u001b[0;34m(self)\u001b[0m\n\u001b[1;32m    261\u001b[0m     \u001b[38;5;28;01melse\u001b[39;00m:\n\u001b[1;32m    262\u001b[0m         msg \u001b[38;5;241m=\u001b[39m (\n\u001b[1;32m    263\u001b[0m             \u001b[38;5;124m\"\u001b[39m\u001b[38;5;124mimage file is truncated \u001b[39m\u001b[38;5;124m\"\u001b[39m\n\u001b[1;32m    264\u001b[0m             \u001b[38;5;124mf\u001b[39m\u001b[38;5;124m\"\u001b[39m\u001b[38;5;124m(\u001b[39m\u001b[38;5;132;01m{\u001b[39;00m\u001b[38;5;28mlen\u001b[39m(b)\u001b[38;5;132;01m}\u001b[39;00m\u001b[38;5;124m bytes not processed)\u001b[39m\u001b[38;5;124m\"\u001b[39m\n\u001b[1;32m    265\u001b[0m         )\n\u001b[0;32m--> 266\u001b[0m         \u001b[38;5;28;01mraise\u001b[39;00m \u001b[38;5;167;01mOSError\u001b[39;00m(msg)\n\u001b[1;32m    268\u001b[0m b \u001b[38;5;241m=\u001b[39m b \u001b[38;5;241m+\u001b[39m s\n\u001b[1;32m    269\u001b[0m n, err_code \u001b[38;5;241m=\u001b[39m decoder\u001b[38;5;241m.\u001b[39mdecode(b)\n",
      "\u001b[0;31mOSError\u001b[0m: image file is truncated (13 bytes not processed)"
     ]
    }
   ],
   "metadata": {}
  },
  {
   "cell_type": "code",
   "execution_count": null,
   "source": [],
   "outputs": [],
   "metadata": {}
  }
 ],
 "metadata": {
  "orig_nbformat": 4,
  "language_info": {
   "name": "python",
   "version": "3.9.17",
   "mimetype": "text/x-python",
   "codemirror_mode": {
    "name": "ipython",
    "version": 3
   },
   "pygments_lexer": "ipython3",
   "nbconvert_exporter": "python",
   "file_extension": ".py"
  },
  "kernelspec": {
   "name": "python3",
   "display_name": "Python 3.9.17 64-bit ('base': conda)"
  },
  "interpreter": {
   "hash": "3e04aa2904e12bb0da92c35f6c3111901f3911b03f5cb8f33364d8658f7b64f9"
  }
 },
 "nbformat": 4,
 "nbformat_minor": 2
}